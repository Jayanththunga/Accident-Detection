{
 "cells": [
  {
   "cell_type": "markdown",
   "id": "c26c1978",
   "metadata": {},
   "source": [
    "## Implementation TARP Assignment 3:\n",
    "\n",
    "\n",
    "#### Lokesh Reddy B (20BCE0943)\n",
    "#### B N Mahesh Reddy (20BCE0959)\n",
    "#### Jayanth T (20BCE0967)\n"
   ]
  },
  {
   "cell_type": "code",
   "execution_count": 1,
   "id": "839b8e3f",
   "metadata": {
    "_cell_guid": "b1076dfc-b9ad-4769-8c92-a6c4dae69d19",
    "_uuid": "8f2839f25d086af736a60e9eeb907d3b93b6e0e5",
    "execution": {
     "iopub.execute_input": "2023-02-17T16:15:44.273074Z",
     "iopub.status.busy": "2023-02-17T16:15:44.271882Z",
     "iopub.status.idle": "2023-02-17T16:15:50.621402Z",
     "shell.execute_reply": "2023-02-17T16:15:50.620399Z"
    },
    "papermill": {
     "duration": 6.362123,
     "end_time": "2023-02-17T16:15:50.623956",
     "exception": false,
     "start_time": "2023-02-17T16:15:44.261833",
     "status": "completed"
    },
    "tags": []
   },
   "outputs": [
    {
     "name": "stderr",
     "output_type": "stream",
     "text": [
      "C:\\Users\\Jayanth\\AppData\\Roaming\\Python\\Python310\\site-packages\\requests\\__init__.py:102: RequestsDependencyWarning: urllib3 (1.26.9) or chardet (5.0.0)/charset_normalizer (2.0.12) doesn't match a supported version!\n",
      "  warnings.warn(\"urllib3 ({}) or chardet ({})/charset_normalizer ({}) doesn't match a supported \"\n"
     ]
    }
   ],
   "source": [
    "import cv2\n",
    "import numpy as np\n",
    "import pandas as pd\n",
    "import matplotlib.pyplot as plt\n",
    "import tensorflow as tf\n",
    "from tensorflow.keras import layers"
   ]
  },
  {
   "cell_type": "markdown",
   "id": "4db9d29b",
   "metadata": {
    "papermill": {
     "duration": 0.006909,
     "end_time": "2023-02-17T16:15:50.638227",
     "exception": false,
     "start_time": "2023-02-17T16:15:50.631318",
     "status": "completed"
    },
    "tags": []
   },
   "source": [
    "# Setting up our Data  "
   ]
  },
  {
   "cell_type": "code",
   "execution_count": 2,
   "id": "5af1f987",
   "metadata": {
    "execution": {
     "iopub.execute_input": "2023-02-17T16:15:50.654149Z",
     "iopub.status.busy": "2023-02-17T16:15:50.652944Z",
     "iopub.status.idle": "2023-02-17T16:15:50.658491Z",
     "shell.execute_reply": "2023-02-17T16:15:50.657645Z"
    },
    "papermill": {
     "duration": 0.015356,
     "end_time": "2023-02-17T16:15:50.660443",
     "exception": false,
     "start_time": "2023-02-17T16:15:50.645087",
     "status": "completed"
    },
    "tags": []
   },
   "outputs": [],
   "source": [
    "batch_size = 100\n",
    "img_height = 250\n",
    "img_width = 250"
   ]
  },
  {
   "cell_type": "code",
   "execution_count": 3,
   "id": "0cc3cfb2",
   "metadata": {
    "execution": {
     "iopub.execute_input": "2023-02-17T16:15:50.690385Z",
     "iopub.status.busy": "2023-02-17T16:15:50.688895Z",
     "iopub.status.idle": "2023-02-17T16:15:53.883848Z",
     "shell.execute_reply": "2023-02-17T16:15:53.882235Z"
    },
    "papermill": {
     "duration": 3.205624,
     "end_time": "2023-02-17T16:15:53.886831",
     "exception": false,
     "start_time": "2023-02-17T16:15:50.681207",
     "status": "completed"
    },
    "tags": []
   },
   "outputs": [
    {
     "name": "stdout",
     "output_type": "stream",
     "text": [
      "Found 791 files belonging to 2 classes.\n",
      "Found 89 files belonging to 2 classes.\n",
      "Found 98 files belonging to 2 classes.\n"
     ]
    }
   ],
   "source": [
    "training_ds = tf.keras.preprocessing.image_dataset_from_directory(\n",
    "    'data/train',\n",
    "    seed=101,\n",
    "    image_size= (img_height, img_width),\n",
    "    batch_size=batch_size\n",
    "\n",
    ")\n",
    "\n",
    "testing_ds = tf.keras.preprocessing.image_dataset_from_directory(\n",
    "    'data/test',\n",
    "    seed=101,\n",
    "    image_size= (img_height, img_width),\n",
    "    batch_size=batch_size)\n",
    "\n",
    "validation_ds =  tf.keras.preprocessing.image_dataset_from_directory(\n",
    "    'data/val',\n",
    "    seed=101,\n",
    "    image_size= (img_height, img_width),\n",
    "    batch_size=batch_size)"
   ]
  },
  {
   "cell_type": "code",
   "execution_count": 4,
   "id": "2ecd2f15",
   "metadata": {
    "execution": {
     "iopub.execute_input": "2023-02-17T16:15:53.932905Z",
     "iopub.status.busy": "2023-02-17T16:15:53.932544Z",
     "iopub.status.idle": "2023-02-17T16:15:53.940197Z",
     "shell.execute_reply": "2023-02-17T16:15:53.939327Z"
    },
    "papermill": {
     "duration": 0.022453,
     "end_time": "2023-02-17T16:15:53.942257",
     "exception": false,
     "start_time": "2023-02-17T16:15:53.919804",
     "status": "completed"
    },
    "tags": []
   },
   "outputs": [],
   "source": [
    "class_names = training_ds.class_names\n",
    "\n",
    "## Configuring dataset for performance\n",
    "AUTOTUNE = tf.data.experimental.AUTOTUNE\n",
    "training_ds = training_ds.cache().prefetch(buffer_size=AUTOTUNE)\n",
    "testing_ds = testing_ds.cache().prefetch(buffer_size=AUTOTUNE)"
   ]
  },
  {
   "cell_type": "markdown",
   "id": "86b3ff70",
   "metadata": {
    "papermill": {
     "duration": 0.00708,
     "end_time": "2023-02-17T16:15:53.956394",
     "exception": false,
     "start_time": "2023-02-17T16:15:53.949314",
     "status": "completed"
    },
    "tags": []
   },
   "source": [
    "# Defining our Pre-Trained Model  \n"
   ]
  },
  {
   "cell_type": "code",
   "execution_count": 5,
   "id": "c57df882",
   "metadata": {
    "execution": {
     "iopub.execute_input": "2023-02-17T16:15:53.971471Z",
     "iopub.status.busy": "2023-02-17T16:15:53.971200Z",
     "iopub.status.idle": "2023-02-17T16:15:55.226286Z",
     "shell.execute_reply": "2023-02-17T16:15:55.225291Z"
    },
    "papermill": {
     "duration": 1.265556,
     "end_time": "2023-02-17T16:15:55.228850",
     "exception": false,
     "start_time": "2023-02-17T16:15:53.963294",
     "status": "completed"
    },
    "tags": []
   },
   "outputs": [
    {
     "name": "stdout",
     "output_type": "stream",
     "text": [
      "WARNING:tensorflow:`input_shape` is undefined or non-square, or `rows` is not in [96, 128, 160, 192, 224]. Weights for input shape (224, 224) will be loaded as the default.\n"
     ]
    }
   ],
   "source": [
    "img_shape = (img_height, img_width, 3)\n",
    "\n",
    "base_model = tf.keras.applications.MobileNetV2(input_shape=img_shape,\n",
    "                                               include_top=False,\n",
    "                                               weights='imagenet')\n",
    "\n",
    "base_model.trainable = False"
   ]
  },
  {
   "cell_type": "markdown",
   "id": "d9e58831",
   "metadata": {
    "papermill": {
     "duration": 0.007394,
     "end_time": "2023-02-17T16:15:55.259499",
     "exception": false,
     "start_time": "2023-02-17T16:15:55.252105",
     "status": "completed"
    },
    "tags": []
   },
   "source": [
    "# Creating Final Model"
   ]
  },
  {
   "cell_type": "code",
   "execution_count": 6,
   "id": "8a00c600",
   "metadata": {
    "execution": {
     "iopub.execute_input": "2023-02-17T16:15:55.276246Z",
     "iopub.status.busy": "2023-02-17T16:15:55.275380Z",
     "iopub.status.idle": "2023-02-17T16:15:55.688900Z",
     "shell.execute_reply": "2023-02-17T16:15:55.687899Z"
    },
    "papermill": {
     "duration": 0.42489,
     "end_time": "2023-02-17T16:15:55.691490",
     "exception": false,
     "start_time": "2023-02-17T16:15:55.266600",
     "status": "completed"
    },
    "tags": []
   },
   "outputs": [],
   "source": [
    "model = tf.keras.Sequential([\n",
    "    base_model,\n",
    "    layers.Conv2D(32, 3, activation='relu'),\n",
    "    layers.Conv2D(64, 3, activation='relu'),\n",
    "    layers.Conv2D(128, 3, activation='relu'),\n",
    "    layers.Flatten(),\n",
    "    layers.Dense(len(class_names), activation= 'softmax')\n",
    "])"
   ]
  },
  {
   "cell_type": "code",
   "execution_count": 7,
   "id": "dc1b041e",
   "metadata": {
    "execution": {
     "iopub.execute_input": "2023-02-17T16:15:55.711139Z",
     "iopub.status.busy": "2023-02-17T16:15:55.710319Z",
     "iopub.status.idle": "2023-02-17T16:15:55.727114Z",
     "shell.execute_reply": "2023-02-17T16:15:55.726230Z"
    },
    "papermill": {
     "duration": 0.028737,
     "end_time": "2023-02-17T16:15:55.729295",
     "exception": false,
     "start_time": "2023-02-17T16:15:55.700558",
     "status": "completed"
    },
    "tags": []
   },
   "outputs": [],
   "source": [
    "model.compile(optimizer='adam',loss='sparse_categorical_crossentropy', metrics=['accuracy'])"
   ]
  },
  {
   "cell_type": "code",
   "execution_count": 8,
   "id": "6335078a",
   "metadata": {
    "execution": {
     "iopub.execute_input": "2023-02-17T16:15:55.760300Z",
     "iopub.status.busy": "2023-02-17T16:15:55.759494Z",
     "iopub.status.idle": "2023-02-17T16:17:48.714300Z",
     "shell.execute_reply": "2023-02-17T16:17:48.712947Z"
    },
    "papermill": {
     "duration": 112.966208,
     "end_time": "2023-02-17T16:17:48.717305",
     "exception": false,
     "start_time": "2023-02-17T16:15:55.751097",
     "status": "completed"
    },
    "tags": []
   },
   "outputs": [
    {
     "name": "stdout",
     "output_type": "stream",
     "text": [
      "Epoch 1/50\n",
      "8/8 [==============================] - 28s 3s/step - loss: 0.7470 - accuracy: 0.5651 - val_loss: 0.6214 - val_accuracy: 0.5918\n",
      "Epoch 2/50\n",
      "8/8 [==============================] - 21s 3s/step - loss: 0.5468 - accuracy: 0.7092 - val_loss: 0.5113 - val_accuracy: 0.7449\n",
      "Epoch 3/50\n",
      "8/8 [==============================] - 21s 3s/step - loss: 0.3836 - accuracy: 0.8470 - val_loss: 0.4713 - val_accuracy: 0.7959\n",
      "Epoch 4/50\n",
      "8/8 [==============================] - 19s 2s/step - loss: 0.2544 - accuracy: 0.9090 - val_loss: 0.3230 - val_accuracy: 0.8673\n",
      "Epoch 5/50\n",
      "8/8 [==============================] - 23s 3s/step - loss: 0.1519 - accuracy: 0.9482 - val_loss: 0.3310 - val_accuracy: 0.8673\n",
      "Epoch 6/50\n",
      "8/8 [==============================] - 26s 3s/step - loss: 0.0904 - accuracy: 0.9646 - val_loss: 0.2455 - val_accuracy: 0.8776\n",
      "Epoch 7/50\n",
      "8/8 [==============================] - 25s 3s/step - loss: 0.0453 - accuracy: 0.9874 - val_loss: 0.3160 - val_accuracy: 0.8878\n",
      "Epoch 8/50\n",
      "8/8 [==============================] - 24s 3s/step - loss: 0.0344 - accuracy: 0.9874 - val_loss: 0.5560 - val_accuracy: 0.8571\n",
      "Epoch 9/50\n",
      "8/8 [==============================] - 25s 3s/step - loss: 0.0357 - accuracy: 0.9886 - val_loss: 0.6662 - val_accuracy: 0.8265\n",
      "Epoch 10/50\n",
      "8/8 [==============================] - 25s 3s/step - loss: 0.0581 - accuracy: 0.9798 - val_loss: 0.6564 - val_accuracy: 0.8367\n",
      "Epoch 11/50\n",
      "8/8 [==============================] - 22s 3s/step - loss: 0.1032 - accuracy: 0.9671 - val_loss: 0.3322 - val_accuracy: 0.8878\n",
      "Epoch 12/50\n",
      "8/8 [==============================] - 21s 3s/step - loss: 0.0898 - accuracy: 0.9646 - val_loss: 0.2387 - val_accuracy: 0.8980\n",
      "Epoch 13/50\n",
      "8/8 [==============================] - 23s 3s/step - loss: 0.0929 - accuracy: 0.9671 - val_loss: 0.2159 - val_accuracy: 0.9286\n",
      "Epoch 14/50\n",
      "8/8 [==============================] - 25s 3s/step - loss: 0.0874 - accuracy: 0.9684 - val_loss: 0.3691 - val_accuracy: 0.8980\n",
      "Epoch 15/50\n",
      "8/8 [==============================] - 25s 3s/step - loss: 0.1171 - accuracy: 0.9532 - val_loss: 0.3065 - val_accuracy: 0.8980\n",
      "Epoch 16/50\n",
      "8/8 [==============================] - 23s 3s/step - loss: 0.0561 - accuracy: 0.9772 - val_loss: 0.2665 - val_accuracy: 0.9184\n",
      "Epoch 17/50\n",
      "8/8 [==============================] - 24s 3s/step - loss: 0.0166 - accuracy: 0.9924 - val_loss: 0.2797 - val_accuracy: 0.8878\n",
      "Epoch 18/50\n",
      "8/8 [==============================] - 26s 3s/step - loss: 0.0151 - accuracy: 0.9937 - val_loss: 0.2452 - val_accuracy: 0.8980\n",
      "Epoch 19/50\n",
      "8/8 [==============================] - 24s 3s/step - loss: 0.0074 - accuracy: 0.9962 - val_loss: 0.2527 - val_accuracy: 0.9082\n",
      "Epoch 20/50\n",
      "8/8 [==============================] - 30s 4s/step - loss: 0.0105 - accuracy: 0.9949 - val_loss: 0.2114 - val_accuracy: 0.8980\n",
      "Epoch 21/50\n",
      "8/8 [==============================] - 28s 3s/step - loss: 0.0071 - accuracy: 0.9949 - val_loss: 0.2561 - val_accuracy: 0.9082\n",
      "Epoch 22/50\n",
      "8/8 [==============================] - 20s 3s/step - loss: 0.0093 - accuracy: 0.9949 - val_loss: 0.2272 - val_accuracy: 0.9082\n",
      "Epoch 23/50\n",
      "8/8 [==============================] - 20s 2s/step - loss: 0.0065 - accuracy: 0.9937 - val_loss: 0.2569 - val_accuracy: 0.9082\n",
      "Epoch 24/50\n",
      "8/8 [==============================] - 17s 2s/step - loss: 0.0087 - accuracy: 0.9949 - val_loss: 0.2289 - val_accuracy: 0.9082\n",
      "Epoch 25/50\n",
      "8/8 [==============================] - 22s 3s/step - loss: 0.0067 - accuracy: 0.9924 - val_loss: 0.2515 - val_accuracy: 0.9082\n",
      "Epoch 26/50\n",
      "8/8 [==============================] - 19s 2s/step - loss: 0.0081 - accuracy: 0.9949 - val_loss: 0.2394 - val_accuracy: 0.9082\n",
      "Epoch 27/50\n",
      "8/8 [==============================] - 18s 2s/step - loss: 0.0067 - accuracy: 0.9949 - val_loss: 0.2625 - val_accuracy: 0.9082\n",
      "Epoch 28/50\n",
      "8/8 [==============================] - 20s 3s/step - loss: 0.0078 - accuracy: 0.9949 - val_loss: 0.2538 - val_accuracy: 0.9082\n",
      "Epoch 29/50\n",
      "8/8 [==============================] - 19s 2s/step - loss: 0.0070 - accuracy: 0.9949 - val_loss: 0.2635 - val_accuracy: 0.9082\n",
      "Epoch 30/50\n",
      "8/8 [==============================] - 18s 2s/step - loss: 0.0076 - accuracy: 0.9949 - val_loss: 0.2593 - val_accuracy: 0.9082\n",
      "Epoch 31/50\n",
      "8/8 [==============================] - 20s 3s/step - loss: 0.0068 - accuracy: 0.9949 - val_loss: 0.2718 - val_accuracy: 0.9082\n",
      "Epoch 32/50\n",
      "8/8 [==============================] - 24s 3s/step - loss: 0.0074 - accuracy: 0.9949 - val_loss: 0.2705 - val_accuracy: 0.9082\n",
      "Epoch 33/50\n",
      "8/8 [==============================] - 25s 3s/step - loss: 0.0069 - accuracy: 0.9949 - val_loss: 0.2807 - val_accuracy: 0.9082\n",
      "Epoch 34/50\n",
      "8/8 [==============================] - 22s 3s/step - loss: 0.0074 - accuracy: 0.9949 - val_loss: 0.2724 - val_accuracy: 0.9082\n",
      "Epoch 35/50\n",
      "8/8 [==============================] - 21s 3s/step - loss: 0.0068 - accuracy: 0.9949 - val_loss: 0.2803 - val_accuracy: 0.9082\n",
      "Epoch 36/50\n",
      "8/8 [==============================] - 20s 2s/step - loss: 0.0073 - accuracy: 0.9949 - val_loss: 0.2760 - val_accuracy: 0.9082\n",
      "Epoch 37/50\n",
      "8/8 [==============================] - 19s 2s/step - loss: 0.0069 - accuracy: 0.9949 - val_loss: 0.2835 - val_accuracy: 0.9082\n",
      "Epoch 38/50\n",
      "8/8 [==============================] - 21s 3s/step - loss: 0.0071 - accuracy: 0.9949 - val_loss: 0.2825 - val_accuracy: 0.9082\n",
      "Epoch 39/50\n",
      "8/8 [==============================] - 22s 3s/step - loss: 0.0070 - accuracy: 0.9949 - val_loss: 0.2886 - val_accuracy: 0.9082\n",
      "Epoch 40/50\n",
      "8/8 [==============================] - 22s 3s/step - loss: 0.0072 - accuracy: 0.9949 - val_loss: 0.2851 - val_accuracy: 0.9082\n",
      "Epoch 41/50\n",
      "8/8 [==============================] - 20s 3s/step - loss: 0.0069 - accuracy: 0.9949 - val_loss: 0.2917 - val_accuracy: 0.9082\n",
      "Epoch 42/50\n",
      "8/8 [==============================] - 18s 2s/step - loss: 0.0071 - accuracy: 0.9949 - val_loss: 0.2910 - val_accuracy: 0.9082\n",
      "Epoch 43/50\n",
      "8/8 [==============================] - 19s 2s/step - loss: 0.0070 - accuracy: 0.9949 - val_loss: 0.2953 - val_accuracy: 0.9082\n",
      "Epoch 44/50\n",
      "8/8 [==============================] - 21s 3s/step - loss: 0.0071 - accuracy: 0.9949 - val_loss: 0.2910 - val_accuracy: 0.9082\n",
      "Epoch 45/50\n",
      "8/8 [==============================] - 20s 3s/step - loss: 0.0069 - accuracy: 0.9949 - val_loss: 0.2954 - val_accuracy: 0.9082\n",
      "Epoch 46/50\n",
      "8/8 [==============================] - 22s 3s/step - loss: 0.0070 - accuracy: 0.9949 - val_loss: 0.2940 - val_accuracy: 0.9082\n",
      "Epoch 47/50\n",
      "4/8 [==============>...............] - ETA: 10s - loss: 0.0073 - accuracy: 0.9950   "
     ]
    }
   ],
   "source": [
    "history = model.fit(training_ds, validation_data = validation_ds, epochs = 50)"
   ]
  },
  {
   "cell_type": "code",
   "execution_count": null,
   "id": "77a5941a",
   "metadata": {
    "execution": {
     "iopub.execute_input": "2023-02-17T16:17:48.787323Z",
     "iopub.status.busy": "2023-02-17T16:17:48.786389Z",
     "iopub.status.idle": "2023-02-17T16:17:49.054455Z",
     "shell.execute_reply": "2023-02-17T16:17:49.053467Z"
    },
    "papermill": {
     "duration": 0.305045,
     "end_time": "2023-02-17T16:17:49.056854",
     "exception": false,
     "start_time": "2023-02-17T16:17:48.751809",
     "status": "completed"
    },
    "tags": []
   },
   "outputs": [],
   "source": [
    "plt.plot(history.history['loss'], label = 'training loss')\n",
    "plt.plot(history.history['accuracy'], label = 'training accuracy')\n",
    "plt.grid(True)\n",
    "plt.legend()"
   ]
  },
  {
   "cell_type": "code",
   "execution_count": null,
   "id": "7bd278d8",
   "metadata": {
    "execution": {
     "iopub.execute_input": "2023-02-17T16:17:49.125380Z",
     "iopub.status.busy": "2023-02-17T16:17:49.124495Z",
     "iopub.status.idle": "2023-02-17T16:17:49.368222Z",
     "shell.execute_reply": "2023-02-17T16:17:49.367253Z"
    },
    "papermill": {
     "duration": 0.27998,
     "end_time": "2023-02-17T16:17:49.370536",
     "exception": false,
     "start_time": "2023-02-17T16:17:49.090556",
     "status": "completed"
    },
    "tags": []
   },
   "outputs": [],
   "source": [
    "plt.plot(history.history['val_loss'], label = 'validation loss')\n",
    "plt.plot(history.history['val_accuracy'], label = 'validation accuracy')\n",
    "plt.grid(True)\n",
    "plt.legend()"
   ]
  },
  {
   "cell_type": "code",
   "execution_count": null,
   "id": "4adf612a",
   "metadata": {
    "execution": {
     "iopub.execute_input": "2023-02-17T16:17:49.507871Z",
     "iopub.status.busy": "2023-02-17T16:17:49.507232Z",
     "iopub.status.idle": "2023-02-17T16:17:54.251065Z",
     "shell.execute_reply": "2023-02-17T16:17:54.249696Z"
    },
    "papermill": {
     "duration": 4.823596,
     "end_time": "2023-02-17T16:17:54.295561",
     "exception": false,
     "start_time": "2023-02-17T16:17:49.471965",
     "status": "completed"
    },
    "tags": []
   },
   "outputs": [],
   "source": [
    "AccuracyVector = []\n",
    "plt.figure(figsize=(30, 30))\n",
    "for images, labels in testing_ds.take(1):\n",
    "    predictions = model.predict(images)\n",
    "    predlabel = []\n",
    "    prdlbl = []\n",
    "    \n",
    "    for mem in predictions:\n",
    "        predlabel.append(class_names[np.argmax(mem)])\n",
    "        prdlbl.append(np.argmax(mem))\n",
    "    \n",
    "    AccuracyVector = np.array(prdlbl) == labels\n",
    "    for i in range(40):\n",
    "        ax = plt.subplot(10, 4, i + 1)\n",
    "        plt.imshow(images[i].numpy().astype(\"uint8\"))\n",
    "        plt.title('Pred: '+ predlabel[i]+' actl:'+class_names[labels[i]] )\n",
    "        plt.axis('off')\n",
    "        plt.grid(True)"
   ]
  },
  {
   "cell_type": "code",
   "execution_count": null,
   "id": "4328b87e",
   "metadata": {
    "execution": {
     "iopub.execute_input": "2023-02-17T16:17:54.641856Z",
     "iopub.status.busy": "2023-02-17T16:17:54.641319Z",
     "iopub.status.idle": "2023-02-17T16:17:55.305976Z",
     "shell.execute_reply": "2023-02-17T16:17:55.304874Z"
    },
    "papermill": {
     "duration": 0.752164,
     "end_time": "2023-02-17T16:17:55.308350",
     "exception": false,
     "start_time": "2023-02-17T16:17:54.556186",
     "status": "completed"
    },
    "tags": []
   },
   "outputs": [],
   "source": [
    "from keras.utils.vis_utils import plot_model\n",
    "plot_model(model, to_file='model_plot.png', show_shapes=True, show_layer_names=True)"
   ]
  },
  {
   "cell_type": "code",
   "execution_count": null,
   "id": "07bec703",
   "metadata": {
    "execution": {
     "iopub.execute_input": "2023-02-17T16:17:55.650099Z",
     "iopub.status.busy": "2023-02-17T16:17:55.649101Z",
     "iopub.status.idle": "2023-02-17T16:17:55.656926Z",
     "shell.execute_reply": "2023-02-17T16:17:55.655350Z"
    },
    "papermill": {
     "duration": 0.096427,
     "end_time": "2023-02-17T16:17:55.658988",
     "exception": false,
     "start_time": "2023-02-17T16:17:55.562561",
     "status": "completed"
    },
    "tags": []
   },
   "outputs": [],
   "source": [
    "print(class_names)"
   ]
  },
  {
   "cell_type": "markdown",
   "id": "c4bb6871",
   "metadata": {
    "papermill": {
     "duration": 0.083293,
     "end_time": "2023-02-17T16:17:55.826132",
     "exception": false,
     "start_time": "2023-02-17T16:17:55.742839",
     "status": "completed"
    },
    "tags": []
   },
   "source": [
    "# Testing Model on Videos"
   ]
  },
  {
   "cell_type": "code",
   "execution_count": null,
   "id": "785fffef",
   "metadata": {
    "execution": {
     "iopub.execute_input": "2023-02-17T16:17:55.998105Z",
     "iopub.status.busy": "2023-02-17T16:17:55.997507Z",
     "iopub.status.idle": "2023-02-17T16:17:56.005829Z",
     "shell.execute_reply": "2023-02-17T16:17:56.004931Z"
    },
    "papermill": {
     "duration": 0.09739,
     "end_time": "2023-02-17T16:17:56.007952",
     "exception": false,
     "start_time": "2023-02-17T16:17:55.910562",
     "status": "completed"
    },
    "tags": []
   },
   "outputs": [],
   "source": [
    "def predict_frame(img):\n",
    "    img_array = tf.keras.utils.img_to_array(img)\n",
    "    img_batch = np.expand_dims(img_array, axis=0)\n",
    "    prediction=(model.predict(img_batch) > 0.5).astype(\"int32\")\n",
    "    if(prediction[0][0]==0):\n",
    "        return(\"Accident Detected\")\n",
    "    else:\n",
    "        return(\"No Accident\")"
   ]
  },
  {
   "cell_type": "code",
   "execution_count": null,
   "id": "5c6a8f96",
   "metadata": {
    "execution": {
     "iopub.execute_input": "2023-02-17T16:17:56.343618Z",
     "iopub.status.busy": "2023-02-17T16:17:56.343027Z",
     "iopub.status.idle": "2023-02-17T16:18:04.362252Z",
     "shell.execute_reply": "2023-02-17T16:18:04.361092Z"
    },
    "papermill": {
     "duration": 8.106931,
     "end_time": "2023-02-17T16:18:04.364380",
     "exception": false,
     "start_time": "2023-02-17T16:17:56.257449",
     "status": "completed"
    },
    "tags": []
   },
   "outputs": [],
   "source": [
    "import cv2\n",
    "image=[]\n",
    "label=[]\n",
    "\n",
    "c=1\n",
    "cap= cv2.VideoCapture('data/video.mp4')\n",
    "while True:\n",
    "    grabbed, frame = cap.read()\n",
    "    if c%30==0:\n",
    "        print(c)\n",
    "        resized_frame=tf.keras.preprocessing.image.smart_resize(frame, (img_height, img_width), interpolation='bilinear')\n",
    "        image.append(frame)\n",
    "        label.append(predict_frame(resized_frame))\n",
    "        if(len(image)==75):\n",
    "            break\n",
    "    c+=1\n",
    "\n",
    "cap.release()"
   ]
  },
  {
   "cell_type": "code",
   "execution_count": null,
   "id": "2cf5586c",
   "metadata": {
    "execution": {
     "iopub.execute_input": "2023-02-17T16:18:04.747901Z",
     "iopub.status.busy": "2023-02-17T16:18:04.747533Z",
     "iopub.status.idle": "2023-02-17T16:18:05.089041Z",
     "shell.execute_reply": "2023-02-17T16:18:05.087984Z"
    },
    "papermill": {
     "duration": 0.445558,
     "end_time": "2023-02-17T16:18:05.092334",
     "exception": false,
     "start_time": "2023-02-17T16:18:04.646776",
     "status": "completed"
    },
    "tags": []
   },
   "outputs": [],
   "source": [
    "print(label[10])\n",
    "print(plt.imshow(image[10]))"
   ]
  },
  {
   "cell_type": "markdown",
   "id": "e4ede366",
   "metadata": {
    "papermill": {
     "duration": 0.097259,
     "end_time": "2023-02-17T16:18:05.487788",
     "exception": false,
     "start_time": "2023-02-17T16:18:05.390529",
     "status": "completed"
    },
    "tags": []
   },
   "source": [
    "# Converting to TFLite Model  "
   ]
  },
  {
   "cell_type": "code",
   "execution_count": null,
   "id": "5971c1bc",
   "metadata": {
    "execution": {
     "iopub.execute_input": "2023-02-17T16:18:05.685812Z",
     "iopub.status.busy": "2023-02-17T16:18:05.685440Z",
     "iopub.status.idle": "2023-02-17T16:18:39.550559Z",
     "shell.execute_reply": "2023-02-17T16:18:39.549496Z"
    },
    "papermill": {
     "duration": 34.066801,
     "end_time": "2023-02-17T16:18:39.652919",
     "exception": false,
     "start_time": "2023-02-17T16:18:05.586118",
     "status": "completed"
    },
    "tags": []
   },
   "outputs": [],
   "source": [
    "# Convert the model.\n",
    "converter = tf.lite.TFLiteConverter.from_keras_model(model)\n",
    "tflite_model = converter.convert()\n",
    "\n",
    "# Save the model.\n",
    "with open('tf_lite_model.tflite', 'wb') as f:\n",
    "    f.write(tflite_model)"
   ]
  },
  {
   "cell_type": "code",
   "execution_count": null,
   "id": "4b1d11f8",
   "metadata": {
    "execution": {
     "iopub.execute_input": "2023-02-17T16:18:40.061562Z",
     "iopub.status.busy": "2023-02-17T16:18:40.060861Z",
     "iopub.status.idle": "2023-02-17T16:18:40.098205Z",
     "shell.execute_reply": "2023-02-17T16:18:40.097201Z"
    },
    "papermill": {
     "duration": 0.142101,
     "end_time": "2023-02-17T16:18:40.100892",
     "exception": false,
     "start_time": "2023-02-17T16:18:39.958791",
     "status": "completed"
    },
    "tags": []
   },
   "outputs": [],
   "source": [
    "interpreter = tf.lite.Interpreter(model_path = 'tf_lite_model.tflite')\n",
    "input_details = interpreter.get_input_details()\n",
    "output_details = interpreter.get_output_details()\n",
    "print(\"Input Shape:\", input_details[0]['shape'])\n",
    "print(\"Input Type:\", input_details[0]['dtype'])\n",
    "print(\"Output Shape:\", output_details[0]['shape'])\n",
    "print(\"Output Type:\", output_details[0]['dtype'])"
   ]
  },
  {
   "cell_type": "code",
   "execution_count": null,
   "id": "50c8e878",
   "metadata": {
    "execution": {
     "iopub.execute_input": "2023-02-17T16:18:40.498732Z",
     "iopub.status.busy": "2023-02-17T16:18:40.498342Z",
     "iopub.status.idle": "2023-02-17T16:18:40.522632Z",
     "shell.execute_reply": "2023-02-17T16:18:40.521303Z"
    },
    "papermill": {
     "duration": 0.127548,
     "end_time": "2023-02-17T16:18:40.524781",
     "exception": false,
     "start_time": "2023-02-17T16:18:40.397233",
     "status": "completed"
    },
    "tags": []
   },
   "outputs": [],
   "source": [
    "interpreter.resize_tensor_input(input_details[0]['index'], (1, 250, 250,3))\n",
    "interpreter.resize_tensor_input(output_details[0]['index'], (1, 2))\n",
    "interpreter.allocate_tensors()\n",
    "input_details = interpreter.get_input_details()\n",
    "output_details = interpreter.get_output_details()\n",
    "print(\"Input Shape:\", input_details[0]['shape'])\n",
    "print(\"Input Type:\", input_details[0]['dtype'])\n",
    "print(\"Output Shape:\", output_details[0]['shape'])\n",
    "print(\"Output Type:\", output_details[0]['dtype'])"
   ]
  },
  {
   "cell_type": "code",
   "execution_count": null,
   "id": "5e0b9907",
   "metadata": {
    "execution": {
     "iopub.execute_input": "2023-02-17T16:18:40.924341Z",
     "iopub.status.busy": "2023-02-17T16:18:40.923950Z",
     "iopub.status.idle": "2023-02-17T16:18:40.943071Z",
     "shell.execute_reply": "2023-02-17T16:18:40.942102Z"
    },
    "papermill": {
     "duration": 0.121916,
     "end_time": "2023-02-17T16:18:40.945192",
     "exception": false,
     "start_time": "2023-02-17T16:18:40.823276",
     "status": "completed"
    },
    "tags": []
   },
   "outputs": [],
   "source": [
    "from PIL import Image\n",
    "im=Image.open(\"data/train/Non Accident/5_17.jpg\").resize((250,250))\n",
    "img_array = tf.keras.utils.img_to_array(im)\n",
    "img_batch = np.expand_dims(img_array, axis=0)"
   ]
  },
  {
   "cell_type": "code",
   "execution_count": null,
   "id": "f0283b92",
   "metadata": {
    "execution": {
     "iopub.execute_input": "2023-02-17T16:18:41.343372Z",
     "iopub.status.busy": "2023-02-17T16:18:41.342540Z",
     "iopub.status.idle": "2023-02-17T16:18:41.646426Z",
     "shell.execute_reply": "2023-02-17T16:18:41.645479Z"
    },
    "papermill": {
     "duration": 0.409515,
     "end_time": "2023-02-17T16:18:41.650142",
     "exception": false,
     "start_time": "2023-02-17T16:18:41.240627",
     "status": "completed"
    },
    "tags": []
   },
   "outputs": [],
   "source": [
    "interpreter.set_tensor(input_details[0]['index'], img_batch)\n",
    "interpreter.invoke()\n",
    "tflite_model_predictions = interpreter.get_tensor(output_details[0]['index'])\n",
    "print(\"Prediction results:\", tflite_model_predictions)\n",
    "print(plt.imshow(im))"
   ]
  },
  {
   "cell_type": "code",
   "execution_count": null,
   "metadata": {},
   "outputs": [],
   "source": [
    "if(tflite_model_predictions[0]>tflite_model_predictions[1]):\n",
    "    print(\"No Accident\")\n",
    "else:\n",
    "    print(\"Accident happened\")"
   ]
  }
 ],
 "metadata": {
  "kernelspec": {
   "display_name": "Python 3",
   "language": "python",
   "name": "python3"
  },
  "language_info": {
   "codemirror_mode": {
    "name": "ipython",
    "version": 3
   },
   "file_extension": ".py",
   "mimetype": "text/x-python",
   "name": "python",
   "nbconvert_exporter": "python",
   "pygments_lexer": "ipython3",
   "version": "3.10.6"
  },
  "papermill": {
   "default_parameters": {},
   "duration": 189.592546,
   "end_time": "2023-02-17T16:18:45.777909",
   "environment_variables": {},
   "exception": null,
   "input_path": "__notebook__.ipynb",
   "output_path": "__notebook__.ipynb",
   "parameters": {},
   "start_time": "2023-02-17T16:15:36.185363",
   "version": "2.3.4"
  }
 },
 "nbformat": 4,
 "nbformat_minor": 5
}
